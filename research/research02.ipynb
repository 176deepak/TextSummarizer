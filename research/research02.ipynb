{
 "cells": [
  {
   "cell_type": "code",
   "execution_count": 1,
   "metadata": {},
   "outputs": [
    {
     "name": "stderr",
     "output_type": "stream",
     "text": [
      "e:\\Projects\\Summarizer\\venv\\lib\\site-packages\\tqdm-4.66.1-py3.9.egg\\tqdm\\auto.py:21: TqdmWarning: IProgress not found. Please update jupyter and ipywidgets. See https://ipywidgets.readthedocs.io/en/stable/user_install.html\n",
      "  from .autonotebook import tqdm as notebook_tqdm\n"
     ]
    }
   ],
   "source": [
    "import os\n",
    "import pandas as pd\n",
    "from datasets import Dataset, load_dataset, load_from_disk, DatasetDict"
   ]
  },
  {
   "cell_type": "code",
   "execution_count": 2,
   "id": "581dc4d1",
   "metadata": {},
   "outputs": [],
   "source": [
    "df = pd.read_csv('../data/BBC_data.csv')"
   ]
  },
  {
   "cell_type": "code",
   "execution_count": null,
   "id": "f794dff2",
   "metadata": {},
   "outputs": [],
   "source": [
    "# Shuffle the dataset (if needed)\n",
    "df = df.sample(frac=1, random_state=42)  # Shuffle with a fixed random state for reproducibility"
   ]
  },
  {
   "cell_type": "code",
   "execution_count": null,
   "id": "08d943a7",
   "metadata": {},
   "outputs": [],
   "source": [
    "df"
   ]
  },
  {
   "cell_type": "code",
   "execution_count": null,
   "id": "4c5582f4",
   "metadata": {},
   "outputs": [],
   "source": [
    "# Define your desired ratios\n",
    "train_ratio = 0.8\n",
    "val_ratio = 0.10"
   ]
  },
  {
   "cell_type": "code",
   "execution_count": null,
   "id": "76488828",
   "metadata": {},
   "outputs": [],
   "source": [
    "# Calculate the sizes of each subset\n",
    "num_samples = len(df)\n",
    "num_train = int(num_samples * train_ratio)\n",
    "num_val = int(num_samples * val_ratio)"
   ]
  },
  {
   "cell_type": "code",
   "execution_count": null,
   "id": "f529ba2d",
   "metadata": {},
   "outputs": [],
   "source": [
    "num_train, num_val"
   ]
  },
  {
   "cell_type": "code",
   "execution_count": null,
   "id": "f2f3ba2b",
   "metadata": {},
   "outputs": [],
   "source": [
    "# Split the dataset\n",
    "train_data = df[:num_train]\n",
    "val_data = df[num_train:num_train+num_val]\n",
    "test_data = df[num_train+num_val:]"
   ]
  },
  {
   "cell_type": "code",
   "execution_count": null,
   "id": "6d948c53",
   "metadata": {},
   "outputs": [],
   "source": [
    "train_data"
   ]
  },
  {
   "cell_type": "code",
   "execution_count": null,
   "id": "8132b4bc",
   "metadata": {},
   "outputs": [],
   "source": [
    "test_data"
   ]
  },
  {
   "cell_type": "code",
   "execution_count": null,
   "id": "f748087e",
   "metadata": {},
   "outputs": [],
   "source": [
    "val_data"
   ]
  },
  {
   "cell_type": "code",
   "execution_count": null,
   "id": "99b2df36",
   "metadata": {},
   "outputs": [],
   "source": [
    "train_data.to_csv('../data/train.csv', index=False)\n",
    "test_data.to_csv('../data/test.csv', index=False)\n",
    "val_data.to_csv('../data/val.csv', index=False)"
   ]
  },
  {
   "cell_type": "code",
   "execution_count": 4,
   "id": "8fc65b4e",
   "metadata": {},
   "outputs": [
    {
     "name": "stderr",
     "output_type": "stream",
     "text": [
      "Downloading data files: 100%|██████████| 3/3 [00:00<00:00, 1520.23it/s]\n",
      "Extracting data files: 100%|██████████| 3/3 [00:00<00:00, 427.48it/s]\n",
      "Generating train split: 1780 examples [00:00, 8556.19 examples/s]\n",
      "Generating test split: 223 examples [00:00, 2732.30 examples/s]\n",
      "Generating validation split: 222 examples [00:00, 4723.96 examples/s]\n"
     ]
    }
   ],
   "source": [
    "data_files = {\"train\": \"train.csv\", \"test\": \"test.csv\", \"validation\": \"val.csv\"}\n",
    "data = load_dataset('../data', data_files=data_files)"
   ]
  },
  {
   "cell_type": "code",
   "execution_count": 5,
   "id": "9ac26402",
   "metadata": {},
   "outputs": [
    {
     "name": "stderr",
     "output_type": "stream",
     "text": [
      "Saving the dataset (1/1 shards): 100%|██████████| 1780/1780 [00:00<00:00, 53927.33 examples/s]\n",
      "Saving the dataset (1/1 shards): 100%|██████████| 223/223 [00:00<00:00, 9695.95 examples/s] \n",
      "Saving the dataset (1/1 shards): 100%|██████████| 222/222 [00:00<00:00, 12332.10 examples/s]\n"
     ]
    }
   ],
   "source": [
    "data.save_to_disk('../data/BBC_data')"
   ]
  },
  {
   "cell_type": "code",
   "execution_count": 10,
   "id": "e79773eb",
   "metadata": {},
   "outputs": [],
   "source": [
    "train_data = load_dataset('csv', data_files='../data/train.csv')\n",
    "test_data = load_dataset('csv', data_files='../data/test.csv')\n",
    "val_data = load_dataset('csv', data_files='../data/val.csv')"
   ]
  },
  {
   "cell_type": "code",
   "execution_count": 13,
   "id": "427c3da3",
   "metadata": {},
   "outputs": [
    {
     "name": "stderr",
     "output_type": "stream",
     "text": [
      "Saving the dataset (1/1 shards): 100%|██████████| 1780/1780 [00:00<00:00, 66216.06 examples/s]\n"
     ]
    }
   ],
   "source": [
    "train_data.save_to_disk('../data/BBC_data')\n",
    "test_data.save_to_disk('../data/BBC_data')\n",
    "val_data.save_to_disk('../data/BBC_data')"
   ]
  },
  {
   "cell_type": "code",
   "execution_count": null,
   "id": "7a040228",
   "metadata": {},
   "outputs": [],
   "source": []
  },
  {
   "cell_type": "code",
   "execution_count": 8,
   "id": "6a4311eb",
   "metadata": {},
   "outputs": [],
   "source": [
    "final_df = load_from_disk('../data/BBC_data')"
   ]
  },
  {
   "cell_type": "code",
   "execution_count": 9,
   "id": "5e4fc1b3",
   "metadata": {},
   "outputs": [
    {
     "data": {
      "text/plain": [
       "DatasetDict({\n",
       "    train: Dataset({\n",
       "        features: ['id', ' article ', ' summary'],\n",
       "        num_rows: 1780\n",
       "    })\n",
       "    test: Dataset({\n",
       "        features: ['id', ' article ', ' summary'],\n",
       "        num_rows: 223\n",
       "    })\n",
       "    validation: Dataset({\n",
       "        features: ['id', ' article ', ' summary'],\n",
       "        num_rows: 222\n",
       "    })\n",
       "})"
      ]
     },
     "execution_count": 9,
     "metadata": {},
     "output_type": "execute_result"
    }
   ],
   "source": [
    "final_df"
   ]
  },
  {
   "cell_type": "code",
   "execution_count": null,
   "id": "ee29635e",
   "metadata": {},
   "outputs": [],
   "source": []
  },
  {
   "cell_type": "code",
   "execution_count": null,
   "id": "45fa921c",
   "metadata": {},
   "outputs": [],
   "source": []
  }
 ],
 "metadata": {
  "kernelspec": {
   "display_name": "Python 3",
   "language": "python",
   "name": "python3"
  },
  "language_info": {
   "codemirror_mode": {
    "name": "ipython",
    "version": 3
   },
   "file_extension": ".py",
   "mimetype": "text/x-python",
   "name": "python",
   "nbconvert_exporter": "python",
   "pygments_lexer": "ipython3",
   "version": "3.9.0"
  }
 },
 "nbformat": 4,
 "nbformat_minor": 5
}
